{
 "cells": [
  {
   "cell_type": "code",
   "execution_count": 99,
   "metadata": {
    "collapsed": false
   },
   "outputs": [
    {
     "data": {
      "text/plain": [
       "'\\nGradient descent demo\\n'"
      ]
     },
     "execution_count": 99,
     "metadata": {},
     "output_type": "execute_result"
    }
   ],
   "source": [
    "'''\n",
    "Gradient descent demo\n",
    "'''"
   ]
  },
  {
   "cell_type": "code",
   "execution_count": 5,
   "metadata": {
    "collapsed": true
   },
   "outputs": [],
   "source": [
    "import numpy as np\n",
    "import pandas as pd                 # for loading data from csv file\n",
    "import matplotlib.pyplot as plt     # for plotting\n",
    "%matplotlib inline"
   ]
  },
  {
   "cell_type": "code",
   "execution_count": 61,
   "metadata": {
    "collapsed": false
   },
   "outputs": [],
   "source": [
    "#dataset movie_metadata.csv using num_critic_for_reviews & num_voted_users columns\n",
    "points = pd.read_csv('data1.csv')"
   ]
  },
  {
   "cell_type": "code",
   "execution_count": 72,
   "metadata": {
    "collapsed": false
   },
   "outputs": [
    {
     "data": {
      "text/html": [
       "<div>\n",
       "<table border=\"1\" class=\"dataframe\">\n",
       "  <thead>\n",
       "    <tr style=\"text-align: right;\">\n",
       "      <th></th>\n",
       "      <th>a</th>\n",
       "      <th>b</th>\n",
       "    </tr>\n",
       "  </thead>\n",
       "  <tbody>\n",
       "    <tr>\n",
       "      <th>0</th>\n",
       "      <td>723</td>\n",
       "      <td>886204</td>\n",
       "    </tr>\n",
       "    <tr>\n",
       "      <th>1</th>\n",
       "      <td>302</td>\n",
       "      <td>471220</td>\n",
       "    </tr>\n",
       "    <tr>\n",
       "      <th>2</th>\n",
       "      <td>602</td>\n",
       "      <td>275868</td>\n",
       "    </tr>\n",
       "    <tr>\n",
       "      <th>3</th>\n",
       "      <td>813</td>\n",
       "      <td>1144337</td>\n",
       "    </tr>\n",
       "    <tr>\n",
       "      <th>4</th>\n",
       "      <td>462</td>\n",
       "      <td>212204</td>\n",
       "    </tr>\n",
       "    <tr>\n",
       "      <th>5</th>\n",
       "      <td>392</td>\n",
       "      <td>383056</td>\n",
       "    </tr>\n",
       "    <tr>\n",
       "      <th>6</th>\n",
       "      <td>324</td>\n",
       "      <td>294810</td>\n",
       "    </tr>\n",
       "    <tr>\n",
       "      <th>7</th>\n",
       "      <td>635</td>\n",
       "      <td>462669</td>\n",
       "    </tr>\n",
       "    <tr>\n",
       "      <th>8</th>\n",
       "      <td>375</td>\n",
       "      <td>321795</td>\n",
       "    </tr>\n",
       "    <tr>\n",
       "      <th>9</th>\n",
       "      <td>673</td>\n",
       "      <td>371639</td>\n",
       "    </tr>\n",
       "    <tr>\n",
       "      <th>10</th>\n",
       "      <td>434</td>\n",
       "      <td>240396</td>\n",
       "    </tr>\n",
       "    <tr>\n",
       "      <th>11</th>\n",
       "      <td>403</td>\n",
       "      <td>330784</td>\n",
       "    </tr>\n",
       "    <tr>\n",
       "      <th>12</th>\n",
       "      <td>313</td>\n",
       "      <td>522040</td>\n",
       "    </tr>\n",
       "    <tr>\n",
       "      <th>13</th>\n",
       "      <td>450</td>\n",
       "      <td>181792</td>\n",
       "    </tr>\n",
       "    <tr>\n",
       "      <th>14</th>\n",
       "      <td>733</td>\n",
       "      <td>548573</td>\n",
       "    </tr>\n",
       "    <tr>\n",
       "      <th>15</th>\n",
       "      <td>258</td>\n",
       "      <td>149922</td>\n",
       "    </tr>\n",
       "    <tr>\n",
       "      <th>16</th>\n",
       "      <td>703</td>\n",
       "      <td>995415</td>\n",
       "    </tr>\n",
       "    <tr>\n",
       "      <th>17</th>\n",
       "      <td>448</td>\n",
       "      <td>370704</td>\n",
       "    </tr>\n",
       "    <tr>\n",
       "      <th>18</th>\n",
       "      <td>451</td>\n",
       "      <td>268154</td>\n",
       "    </tr>\n",
       "    <tr>\n",
       "      <th>19</th>\n",
       "      <td>422</td>\n",
       "      <td>354228</td>\n",
       "    </tr>\n",
       "    <tr>\n",
       "      <th>20</th>\n",
       "      <td>599</td>\n",
       "      <td>451803</td>\n",
       "    </tr>\n",
       "    <tr>\n",
       "      <th>21</th>\n",
       "      <td>343</td>\n",
       "      <td>211765</td>\n",
       "    </tr>\n",
       "    <tr>\n",
       "      <th>22</th>\n",
       "      <td>509</td>\n",
       "      <td>483540</td>\n",
       "    </tr>\n",
       "    <tr>\n",
       "      <th>23</th>\n",
       "      <td>251</td>\n",
       "      <td>149019</td>\n",
       "    </tr>\n",
       "    <tr>\n",
       "      <th>24</th>\n",
       "      <td>446</td>\n",
       "      <td>316018</td>\n",
       "    </tr>\n",
       "    <tr>\n",
       "      <th>25</th>\n",
       "      <td>315</td>\n",
       "      <td>793059</td>\n",
       "    </tr>\n",
       "    <tr>\n",
       "      <th>26</th>\n",
       "      <td>516</td>\n",
       "      <td>272670</td>\n",
       "    </tr>\n",
       "    <tr>\n",
       "      <th>27</th>\n",
       "      <td>377</td>\n",
       "      <td>202382</td>\n",
       "    </tr>\n",
       "    <tr>\n",
       "      <th>28</th>\n",
       "      <td>644</td>\n",
       "      <td>418214</td>\n",
       "    </tr>\n",
       "    <tr>\n",
       "      <th>29</th>\n",
       "      <td>750</td>\n",
       "      <td>522030</td>\n",
       "    </tr>\n",
       "    <tr>\n",
       "      <th>...</th>\n",
       "      <td>...</td>\n",
       "      <td>...</td>\n",
       "    </tr>\n",
       "    <tr>\n",
       "      <th>69</th>\n",
       "      <td>85</td>\n",
       "      <td>129601</td>\n",
       "    </tr>\n",
       "    <tr>\n",
       "      <th>70</th>\n",
       "      <td>264</td>\n",
       "      <td>117927</td>\n",
       "    </tr>\n",
       "    <tr>\n",
       "      <th>71</th>\n",
       "      <td>418</td>\n",
       "      <td>118992</td>\n",
       "    </tr>\n",
       "    <tr>\n",
       "      <th>72</th>\n",
       "      <td>186</td>\n",
       "      <td>115099</td>\n",
       "    </tr>\n",
       "    <tr>\n",
       "      <th>73</th>\n",
       "      <td>585</td>\n",
       "      <td>431620</td>\n",
       "    </tr>\n",
       "    <tr>\n",
       "      <th>74</th>\n",
       "      <td>91</td>\n",
       "      <td>144337</td>\n",
       "    </tr>\n",
       "    <tr>\n",
       "      <th>75</th>\n",
       "      <td>250</td>\n",
       "      <td>174578</td>\n",
       "    </tr>\n",
       "    <tr>\n",
       "      <th>76</th>\n",
       "      <td>536</td>\n",
       "      <td>345198</td>\n",
       "    </tr>\n",
       "    <tr>\n",
       "      <th>77</th>\n",
       "      <td>370</td>\n",
       "      <td>106072</td>\n",
       "    </tr>\n",
       "    <tr>\n",
       "      <th>78</th>\n",
       "      <td>453</td>\n",
       "      <td>522371</td>\n",
       "    </tr>\n",
       "    <tr>\n",
       "      <th>79</th>\n",
       "      <td>416</td>\n",
       "      <td>228554</td>\n",
       "    </tr>\n",
       "    <tr>\n",
       "      <th>80</th>\n",
       "      <td>401</td>\n",
       "      <td>252257</td>\n",
       "    </tr>\n",
       "    <tr>\n",
       "      <th>81</th>\n",
       "      <td>521</td>\n",
       "      <td>317542</td>\n",
       "    </tr>\n",
       "    <tr>\n",
       "      <th>82</th>\n",
       "      <td>10</td>\n",
       "      <td>2138</td>\n",
       "    </tr>\n",
       "    <tr>\n",
       "      <th>83</th>\n",
       "      <td>218</td>\n",
       "      <td>116994</td>\n",
       "    </tr>\n",
       "    <tr>\n",
       "      <th>84</th>\n",
       "      <td>576</td>\n",
       "      <td>496749</td>\n",
       "    </tr>\n",
       "    <tr>\n",
       "      <th>85</th>\n",
       "      <td>226</td>\n",
       "      <td>138661</td>\n",
       "    </tr>\n",
       "    <tr>\n",
       "      <th>86</th>\n",
       "      <td>443</td>\n",
       "      <td>128306</td>\n",
       "    </tr>\n",
       "    <tr>\n",
       "      <th>87</th>\n",
       "      <td>384</td>\n",
       "      <td>279093</td>\n",
       "    </tr>\n",
       "    <tr>\n",
       "      <th>88</th>\n",
       "      <td>377</td>\n",
       "      <td>272534</td>\n",
       "    </tr>\n",
       "    <tr>\n",
       "      <th>89</th>\n",
       "      <td>188</td>\n",
       "      <td>120798</td>\n",
       "    </tr>\n",
       "    <tr>\n",
       "      <th>90</th>\n",
       "      <td>286</td>\n",
       "      <td>58137</td>\n",
       "    </tr>\n",
       "    <tr>\n",
       "      <th>91</th>\n",
       "      <td>288</td>\n",
       "      <td>485430</td>\n",
       "    </tr>\n",
       "    <tr>\n",
       "      <th>92</th>\n",
       "      <td>280</td>\n",
       "      <td>305340</td>\n",
       "    </tr>\n",
       "    <tr>\n",
       "      <th>93</th>\n",
       "      <td>653</td>\n",
       "      <td>682155</td>\n",
       "    </tr>\n",
       "    <tr>\n",
       "      <th>94</th>\n",
       "      <td>712</td>\n",
       "      <td>928227</td>\n",
       "    </tr>\n",
       "    <tr>\n",
       "      <th>95</th>\n",
       "      <td>642</td>\n",
       "      <td>1468200</td>\n",
       "    </tr>\n",
       "    <tr>\n",
       "      <th>96</th>\n",
       "      <td>1</td>\n",
       "      <td>374</td>\n",
       "    </tr>\n",
       "    <tr>\n",
       "      <th>97</th>\n",
       "      <td>645</td>\n",
       "      <td>637246</td>\n",
       "    </tr>\n",
       "    <tr>\n",
       "      <th>98</th>\n",
       "      <td>187</td>\n",
       "      <td>272223</td>\n",
       "    </tr>\n",
       "  </tbody>\n",
       "</table>\n",
       "<p>99 rows × 2 columns</p>\n",
       "</div>"
      ],
      "text/plain": [
       "      a        b\n",
       "0   723   886204\n",
       "1   302   471220\n",
       "2   602   275868\n",
       "3   813  1144337\n",
       "4   462   212204\n",
       "5   392   383056\n",
       "6   324   294810\n",
       "7   635   462669\n",
       "8   375   321795\n",
       "9   673   371639\n",
       "10  434   240396\n",
       "11  403   330784\n",
       "12  313   522040\n",
       "13  450   181792\n",
       "14  733   548573\n",
       "15  258   149922\n",
       "16  703   995415\n",
       "17  448   370704\n",
       "18  451   268154\n",
       "19  422   354228\n",
       "20  599   451803\n",
       "21  343   211765\n",
       "22  509   483540\n",
       "23  251   149019\n",
       "24  446   316018\n",
       "25  315   793059\n",
       "26  516   272670\n",
       "27  377   202382\n",
       "28  644   418214\n",
       "29  750   522030\n",
       "..  ...      ...\n",
       "69   85   129601\n",
       "70  264   117927\n",
       "71  418   118992\n",
       "72  186   115099\n",
       "73  585   431620\n",
       "74   91   144337\n",
       "75  250   174578\n",
       "76  536   345198\n",
       "77  370   106072\n",
       "78  453   522371\n",
       "79  416   228554\n",
       "80  401   252257\n",
       "81  521   317542\n",
       "82   10     2138\n",
       "83  218   116994\n",
       "84  576   496749\n",
       "85  226   138661\n",
       "86  443   128306\n",
       "87  384   279093\n",
       "88  377   272534\n",
       "89  188   120798\n",
       "90  286    58137\n",
       "91  288   485430\n",
       "92  280   305340\n",
       "93  653   682155\n",
       "94  712   928227\n",
       "95  642  1468200\n",
       "96    1      374\n",
       "97  645   637246\n",
       "98  187   272223\n",
       "\n",
       "[99 rows x 2 columns]"
      ]
     },
     "execution_count": 72,
     "metadata": {},
     "output_type": "execute_result"
    }
   ],
   "source": [
    "points=points[0:]\n",
    "points"
   ]
  },
  {
   "cell_type": "code",
   "execution_count": 57,
   "metadata": {
    "collapsed": false
   },
   "outputs": [
    {
     "data": {
      "text/plain": [
       "<matplotlib.collections.PathCollection at 0x7f2b552b6d68>"
      ]
     },
     "execution_count": 57,
     "metadata": {},
     "output_type": "execute_result"
    },
    {
     "data": {
      "image/png": "[encoded data removed]",
      "text/plain": [
       "<matplotlib.figure.Figure at 0x7f2b59d528d0>"
      ]
     },
     "metadata": {},
     "output_type": "display_data"
    }
   ],
   "source": [
    "plt.scatter(points['a'].get_values(),points['b'].get_values())"
   ]
  },
  {
   "cell_type": "code",
   "execution_count": 87,
   "metadata": {
    "collapsed": true
   },
   "outputs": [],
   "source": [
    "def compute_error_for_line_given_points(b, m, points):\n",
    "    totalError = 0\n",
    "    err=[]\n",
    "    for i in range(0, len(points)):\n",
    "        x = points[i, 0]\n",
    "        y = points[i, 1]\n",
    "        totalError += (y - (m * x + b)) ** 2\n",
    "        err.append(totalError)\n",
    "    return [totalError / float(len(points)),err]"
   ]
  },
  {
   "cell_type": "code",
   "execution_count": 27,
   "metadata": {
    "collapsed": true
   },
   "outputs": [],
   "source": [
    "def step_gradient(b_current, m_current, points, learningRate):\n",
    "    b_gradient = 0\n",
    "    m_gradient = 0\n",
    "    N = float(len(points))\n",
    "    for i in range(0, len(points)):\n",
    "        x = points[i, 0]\n",
    "        y = points[i, 1]\n",
    "        b_gradient += -(2/N) * (y - ((m_current * x) + b_current))\n",
    "        m_gradient += -(2/N) * x * (y - ((m_current * x) + b_current))\n",
    "    new_b = b_current - (learningRate * b_gradient)\n",
    "    new_m = m_current - (learningRate * m_gradient)\n",
    "    return [new_b, new_m]"
   ]
  },
  {
   "cell_type": "code",
   "execution_count": 35,
   "metadata": {
    "collapsed": true
   },
   "outputs": [],
   "source": [
    "def gradient_descent_runner(points, starting_b, starting_m, learning_rate, num_iterations):\n",
    "    b = starting_b\n",
    "    m = starting_m\n",
    "    for _ in range(num_iterations):\n",
    "        b, m = step_gradient(b, m, np.array(points), learning_rate)\n",
    "    return [b, m]"
   ]
  },
  {
   "cell_type": "code",
   "execution_count": 90,
   "metadata": {
    "collapsed": false
   },
   "outputs": [],
   "source": [
    "def run():\n",
    "\tpoints = np.genfromtxt(\"data1.csv\", delimiter=\",\")\n",
    "\tlearning_rate = 0.000000001\n",
    "\tinitial_b = 0 # initial y-intercept guess\n",
    "\tinitial_m = 0 # initial slope guess\n",
    "\tnum_iterations = 10000\n",
    "\terr,lierr = compute_error_for_line_given_points(b, m, points)\n",
    "\tprint(\"Starting gradient descent at b = {0}, m = {1}, error = {2}\".format(initial_b, initial_m, err))\n",
    "\tprint (\"Running...\")\n",
    "\t[b, m] = gradient_descent_runner(points, initial_b, initial_m, learning_rate, num_iterations)\n",
    "\terr,lierr = compute_error_for_line_given_points(b, m, points)\n",
    "\tprint (\"After {0} iterations b = {1}, m = {2}, error = {3}\".format(num_iterations, b, m, err))\n",
    "\tprint(\"y = {0}x + {1}\".format(m,b))\n",
    "\tline =[]\n",
    "\tfor i in range(0,1000):\n",
    "\t\tline.append(m*i+b)\n",
    "\treturn [b, m,line,lierr]"
   ]
  },
  {
   "cell_type": "code",
   "execution_count": 93,
   "metadata": {
    "collapsed": false
   },
   "outputs": [
    {
     "name": "stdout",
     "output_type": "stream",
     "text": [
      "Starting gradient descent at b = 0, m = 0, error = [203272380449.31314, [785357529616.0, 1007405818016.0, 1083508971440.0, 2393016141009.0, 2438046678625.0, 2584778577761.0, 2671691513861.0, 2885754117422.0, 2989306139447.0, 3127421685768.0, 3185211922584.0, 3294629977240.0, 3567155738840.0, 3600204070104.0, 3901136406433.0, 3923613012517.0, 4914464034742.0, 5051885490358.0, 5123792058074.0, 5249269534058.0, 5453395484867.0, 5498239900092.0, 5732050831692.0, 5754257494053.0, 5854124870377.0, 6483067447858.0, 6557416376758.0, 6598374850682.0, 6773277800478.0, 7045793121378.0, 7214848956274.0, 7525642941395.0, 7619474883795.0, 7766491148124.0, 7821727898749.0, 7926190663598.0, 7984958119998.0, 8015726437279.0, 8118913222808.0, 8188705880297.0, 8198942867981.0, 8248847300430.0, 8545745873886.0, 8627596222911.0, 8705009268735.0, 8921251939096.0, 9185576454721.0, 9342054453050.0, 9353378818106.0, 9485083937850.0, 9534547032259.0, 9679820830163.0, 9786214222563.0, 9897668041972.0, 9901616404868.0, 9976449290004.0, 9979323000453.0, 10496049633022.0, 10510710968078.0, 10591036730802.0, 10596337881283.0, 10615824086932.0, 10617619473316.0, 10639635800957.0, 13449178317518.0, 13892168398143.0, 13905290787952.0, 14390177398196.0, 14450365679085.0, 14467162098286.0, 14481068875615.0, 14495227971679.0, 14508475751480.0, 14694771575880.0, 14715604745449.0, 14746082223533.0, 14865243882737.0, 14876495151921.0, 15149366613562.0, 15201603544478.0, 15265237138527.0, 15366070060291.0, 15366074631335.0, 15379762227371.0, 15626521796372.0, 15645748669293.0, 15662211098929.0, 15740104001578.0, 15814378782734.0, 15828970939538.0, 15832350850307.0, 16067993135207.0, 16161225650807.0, 16626561094832.0, 17488166458361.0, 19643777698361.0, 19643777838237.0, 20049860302753.0, 20123965664482.0]]\n",
      "Running...\n",
      "After 100000 iterations b = -0.8111945436536796, m = 868.7815630693102, error = 47763458939.877045\n",
      "y = 868.7815630693102x + -0.8111945436536796\n"
     ]
    }
   ],
   "source": [
    "[m,b,line,lierr]=run()"
   ]
  },
  {
   "cell_type": "code",
   "execution_count": 86,
   "metadata": {
    "collapsed": false
   },
   "outputs": [
    {
     "data": {
      "image/png": "[encoded data removed]",
      "text/plain": [
       "<matplotlib.figure.Figure at 0x7f2b551edd30>"
      ]
     },
     "metadata": {},
     "output_type": "display_data"
    }
   ],
   "source": [
    "plt.scatter(points['a'].get_values(),points['b'].get_values())\n",
    "plt.plot(line,'--')\n",
    "plt.grid()"
   ]
  },
  {
   "cell_type": "code",
   "execution_count": 98,
   "metadata": {
    "collapsed": false
   },
   "outputs": [
    {
     "data": {
      "image/png": "[encoded data removed]",
      "text/plain": [
       "<matplotlib.figure.Figure at 0x7f2b55176908>"
      ]
     },
     "metadata": {},
     "output_type": "display_data"
    }
   ],
   "source": [
    "#Error\n",
    "plt.plot(sorted(lierr,reverse=True))\n",
    "plt.grid()"
   ]
  }
 ],
 "metadata": {
  "kernelspec": {
   "display_name": "Python 3",
   "language": "python",
   "name": "python3"
  },
  "language_info": {
   "codemirror_mode": {
    "name": "ipython",
    "version": 3
   },
   "file_extension": ".py",
   "mimetype": "text/x-python",
   "name": "python",
   "nbconvert_exporter": "python",
   "pygments_lexer": "ipython3",
   "version": "3.5.2+"
  }
 },
 "nbformat": 4,
 "nbformat_minor": 2
}
